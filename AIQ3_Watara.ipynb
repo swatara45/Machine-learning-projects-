{
  "nbformat": 4,
  "nbformat_minor": 0,
  "metadata": {
    "colab": {
      "provenance": []
    },
    "kernelspec": {
      "name": "python3",
      "display_name": "Python 3"
    },
    "language_info": {
      "name": "python"
    }
  },
  "cells": [
    {
      "cell_type": "code",
      "execution_count": 2,
      "metadata": {
        "id": "0zE_Lsd2h7Eo"
      },
      "outputs": [],
      "source": [
        "#Step 1\n",
        "#import libraries\n",
        "import pandas as pd\n",
        "import matplotlib.pyplot as plt\n",
        "from sklearn.model_selection import train_test_split\n",
        "from sklearn.linear_model import LinearRegression\n",
        "from sklearn.metrics import mean_squared_error\n",
        "import requests\n",
        "import json\n",
        "import datetime\n",
        "import requests\n",
        "import pandas as pd"
      ]
    },
    {
      "cell_type": "code",
      "source": [
        "#Step 2\n",
        "# Define the API URL\n",
        "url = \"https://api.coinmarketcap.com/data-api/v3/cryptocurrency/historical?id=1027&convertId=2781&timeStart=1672531200&timeEnd=1704067199\"\n",
        "\n",
        "# Send the API request and get the response\n",
        "response = requests.get(url)\n",
        "\n",
        "# Parse the JSON response and extract the Ethereum data\n",
        "data = response.json()[\"data\"][\"quotes\"]\n",
        "\n",
        "# Convert the data into a pandas DataFrame\n",
        "df = pd.DataFrame(data)\n",
        "\n",
        "# Convert the timestamp column to datetime format\n",
        "df[\"timeClose\"] = pd.to_datetime(df[\"timeClose\"])\n",
        "\n",
        "# Set the timestamp column as the DataFrame index\n",
        "df.set_index(\"timeClose\", inplace=True)\n",
        "df.to_csv('Ethereum Historical Data.csv')\n",
        "\n",
        "# Print the DataFrame\n",
        "print(df)\n",
        "\n"
      ],
      "metadata": {
        "colab": {
          "base_uri": "https://localhost:8080/"
        },
        "id": "rCaggHD7h-Gq",
        "outputId": "fa54da52-60a3-4dec-c8f7-25887e8bf46f"
      },
      "execution_count": 3,
      "outputs": [
        {
          "output_type": "stream",
          "name": "stdout",
          "text": [
            "                                                  timeOpen  \\\n",
            "timeClose                                                    \n",
            "2023-01-01 23:59:59.999000+00:00  2023-01-01T00:00:00.000Z   \n",
            "2023-01-02 23:59:59.999000+00:00  2023-01-02T00:00:00.000Z   \n",
            "2023-01-03 23:59:59.999000+00:00  2023-01-03T00:00:00.000Z   \n",
            "2023-01-04 23:59:59.999000+00:00  2023-01-04T00:00:00.000Z   \n",
            "2023-01-05 23:59:59.999000+00:00  2023-01-05T00:00:00.000Z   \n",
            "...                                                    ...   \n",
            "2023-03-07 23:59:59.999000+00:00  2023-03-07T00:00:00.000Z   \n",
            "2023-03-08 23:59:59.999000+00:00  2023-03-08T00:00:00.000Z   \n",
            "2023-03-09 23:59:59.999000+00:00  2023-03-09T00:00:00.000Z   \n",
            "2023-03-10 23:59:59.999000+00:00  2023-03-10T00:00:00.000Z   \n",
            "2023-03-11 23:59:59.999000+00:00  2023-03-11T00:00:00.000Z   \n",
            "\n",
            "                                                  timeHigh  \\\n",
            "timeClose                                                    \n",
            "2023-01-01 23:59:59.999000+00:00  2023-01-01T20:37:00.000Z   \n",
            "2023-01-02 23:59:59.999000+00:00  2023-01-02T15:46:00.000Z   \n",
            "2023-01-03 23:59:59.999000+00:00  2023-01-03T06:32:00.000Z   \n",
            "2023-01-04 23:59:59.999000+00:00  2023-01-04T18:52:00.000Z   \n",
            "2023-01-05 23:59:59.999000+00:00  2023-01-05T00:19:00.000Z   \n",
            "...                                                    ...   \n",
            "2023-03-07 23:59:59.999000+00:00  2023-03-07T03:07:00.000Z   \n",
            "2023-03-08 23:59:59.999000+00:00  2023-03-08T00:34:00.000Z   \n",
            "2023-03-09 23:59:59.999000+00:00  2023-03-09T02:32:00.000Z   \n",
            "2023-03-10 23:59:59.999000+00:00  2023-03-10T00:00:00.000Z   \n",
            "2023-03-11 23:59:59.999000+00:00  2023-03-11T23:56:00.000Z   \n",
            "\n",
            "                                                   timeLow  \\\n",
            "timeClose                                                    \n",
            "2023-01-01 23:59:59.999000+00:00  2023-01-01T04:51:00.000Z   \n",
            "2023-01-02 23:59:59.999000+00:00  2023-01-02T01:24:00.000Z   \n",
            "2023-01-03 23:59:59.999000+00:00  2023-01-03T19:37:00.000Z   \n",
            "2023-01-04 23:59:59.999000+00:00  2023-01-04T00:49:00.000Z   \n",
            "2023-01-05 23:59:59.999000+00:00  2023-01-05T14:49:00.000Z   \n",
            "...                                                    ...   \n",
            "2023-03-07 23:59:59.999000+00:00  2023-03-07T15:10:00.000Z   \n",
            "2023-03-08 23:59:59.999000+00:00  2023-03-08T23:59:00.000Z   \n",
            "2023-03-09 23:59:59.999000+00:00  2023-03-09T21:01:00.000Z   \n",
            "2023-03-10 23:59:59.999000+00:00  2023-03-10T10:49:00.000Z   \n",
            "2023-03-11 23:59:59.999000+00:00  2023-03-11T08:10:00.000Z   \n",
            "\n",
            "                                                                              quote  \n",
            "timeClose                                                                            \n",
            "2023-01-01 23:59:59.999000+00:00  {'open': 1196.7136705721, 'high': 1203.4753873...  \n",
            "2023-01-02 23:59:59.999000+00:00  {'open': 1201.1033098436, 'high': 1219.8606486...  \n",
            "2023-01-03 23:59:59.999000+00:00  {'open': 1214.7440396322, 'high': 1219.0953729...  \n",
            "2023-01-04 23:59:59.999000+00:00  {'open': 1214.718572718, 'high': 1264.80744969...  \n",
            "2023-01-05 23:59:59.999000+00:00  {'open': 1256.4845925572, 'high': 1258.5715587...  \n",
            "...                                                                             ...  \n",
            "2023-03-07 23:59:59.999000+00:00  {'open': 1567.4246284982, 'high': 1579.1622731...  \n",
            "2023-03-08 23:59:59.999000+00:00  {'open': 1561.9778653796, 'high': 1568.1753154...  \n",
            "2023-03-09 23:59:59.999000+00:00  {'open': 1534.0316583587, 'high': 1544.1084319...  \n",
            "2023-03-10 23:59:59.999000+00:00  {'open': 1438.7601676753, 'high': 1438.7601676...  \n",
            "2023-03-11 23:59:59.999000+00:00  {'open': 1429.1007986232, 'high': 1484.1369972...  \n",
            "\n",
            "[70 rows x 4 columns]\n"
          ]
        }
      ]
    },
    {
      "cell_type": "code",
      "source": [
        "print(df.columns)"
      ],
      "metadata": {
        "colab": {
          "base_uri": "https://localhost:8080/"
        },
        "id": "JxDhMZNIEEPG",
        "outputId": "be9ed503-64f1-4fc7-c219-e3fa5c828f0d"
      },
      "execution_count": 4,
      "outputs": [
        {
          "output_type": "stream",
          "name": "stdout",
          "text": [
            "Index(['timeOpen', 'timeHigh', 'timeLow', 'quote'], dtype='object')\n"
          ]
        }
      ]
    },
    {
      "cell_type": "code",
      "source": [
        "#Step 3\n",
        "# Load the data into a DataFrame\n",
        "df = pd.read_csv('Ethereum Historical Data.csv')"
      ],
      "metadata": {
        "id": "5DxPEbCviHBN"
      },
      "execution_count": 5,
      "outputs": []
    },
    {
      "cell_type": "code",
      "source": [
        "#Step 4\n",
        "# Replace single quotes with double quotes in the \"quote\" column\n",
        "df['quote'] = df['quote'].str.replace(\"'\", '\"')\n"
      ],
      "metadata": {
        "id": "w2nO9XfJifHS"
      },
      "execution_count": 6,
      "outputs": []
    },
    {
      "cell_type": "code",
      "source": [
        "# Parse the JSON column into a dictionary\n",
        "df[\"quote\"] = df[\"quote\"].apply(json.loads)"
      ],
      "metadata": {
        "id": "rr4frMFZjeoc"
      },
      "execution_count": 7,
      "outputs": []
    },
    {
      "cell_type": "code",
      "source": [
        "#Step 5\n",
        "# Extract the values for each key as separate columns\n",
        "df['open'] = df['quote'].apply(lambda x: x['open'])\n",
        "df['high'] = df['quote'].apply(lambda x: x['high'])\n",
        "df['low'] = df['quote'].apply(lambda x: x['low'])\n",
        "df['close'] = df['quote'].apply(lambda x: x['close'])\n"
      ],
      "metadata": {
        "id": "MphZMP7Cqy8E"
      },
      "execution_count": 8,
      "outputs": []
    },
    {
      "cell_type": "code",
      "source": [
        "# Drop the original JSON column\n",
        "df.drop('quote', axis=1, inplace=True)"
      ],
      "metadata": {
        "id": "BN8WOCwwqy_Y"
      },
      "execution_count": 9,
      "outputs": []
    },
    {
      "cell_type": "code",
      "source": [
        "#Step 6\n",
        "# Convert timeClose, timeOpen, timeHigh, and timeLow columns to datetime objects\n",
        "df['timeClose'] = pd.to_datetime(df['timeClose'])\n",
        "df['timeOpen'] = pd.to_datetime(df['timeOpen'])\n",
        "df['timeHigh'] = pd.to_datetime(df['timeHigh'])\n",
        "df['timeLow'] = pd.to_datetime(df['timeLow'])"
      ],
      "metadata": {
        "id": "ojg69cgJqzCO"
      },
      "execution_count": 10,
      "outputs": []
    },
    {
      "cell_type": "code",
      "source": [
        "# Print the DataFrame\n",
        "print(df)"
      ],
      "metadata": {
        "colab": {
          "base_uri": "https://localhost:8080/"
        },
        "id": "XGc7lvmLqzE5",
        "outputId": "f4d2f541-32b5-4da2-c154-f409d0611438"
      },
      "execution_count": 11,
      "outputs": [
        {
          "output_type": "stream",
          "name": "stdout",
          "text": [
            "                          timeClose                  timeOpen  \\\n",
            "0  2023-01-01 23:59:59.999000+00:00 2023-01-01 00:00:00+00:00   \n",
            "1  2023-01-02 23:59:59.999000+00:00 2023-01-02 00:00:00+00:00   \n",
            "2  2023-01-03 23:59:59.999000+00:00 2023-01-03 00:00:00+00:00   \n",
            "3  2023-01-04 23:59:59.999000+00:00 2023-01-04 00:00:00+00:00   \n",
            "4  2023-01-05 23:59:59.999000+00:00 2023-01-05 00:00:00+00:00   \n",
            "..                              ...                       ...   \n",
            "65 2023-03-07 23:59:59.999000+00:00 2023-03-07 00:00:00+00:00   \n",
            "66 2023-03-08 23:59:59.999000+00:00 2023-03-08 00:00:00+00:00   \n",
            "67 2023-03-09 23:59:59.999000+00:00 2023-03-09 00:00:00+00:00   \n",
            "68 2023-03-10 23:59:59.999000+00:00 2023-03-10 00:00:00+00:00   \n",
            "69 2023-03-11 23:59:59.999000+00:00 2023-03-11 00:00:00+00:00   \n",
            "\n",
            "                    timeHigh                   timeLow         open  \\\n",
            "0  2023-01-01 20:37:00+00:00 2023-01-01 04:51:00+00:00  1196.713671   \n",
            "1  2023-01-02 15:46:00+00:00 2023-01-02 01:24:00+00:00  1201.103310   \n",
            "2  2023-01-03 06:32:00+00:00 2023-01-03 19:37:00+00:00  1214.744040   \n",
            "3  2023-01-04 18:52:00+00:00 2023-01-04 00:49:00+00:00  1214.718573   \n",
            "4  2023-01-05 00:19:00+00:00 2023-01-05 14:49:00+00:00  1256.484593   \n",
            "..                       ...                       ...          ...   \n",
            "65 2023-03-07 03:07:00+00:00 2023-03-07 15:10:00+00:00  1567.424628   \n",
            "66 2023-03-08 00:34:00+00:00 2023-03-08 23:59:00+00:00  1561.977865   \n",
            "67 2023-03-09 02:32:00+00:00 2023-03-09 21:01:00+00:00  1534.031658   \n",
            "68 2023-03-10 00:00:00+00:00 2023-03-10 10:49:00+00:00  1438.760168   \n",
            "69 2023-03-11 23:56:00+00:00 2023-03-11 08:10:00+00:00  1429.100799   \n",
            "\n",
            "           high          low        close  \n",
            "0   1203.475387  1192.885436  1200.964832  \n",
            "1   1219.860649  1195.215023  1214.656676  \n",
            "2   1219.095373  1207.491547  1214.778803  \n",
            "3   1264.807450  1213.168826  1256.526595  \n",
            "4   1258.571559  1245.173056  1250.438551  \n",
            "..          ...          ...          ...  \n",
            "65  1579.162273  1543.127506  1561.933120  \n",
            "66  1568.175315  1534.088232  1534.088232  \n",
            "67  1544.108432  1423.264718  1438.660722  \n",
            "68  1438.760168  1378.525402  1429.158133  \n",
            "69  1484.136997  1428.723175  1482.616649  \n",
            "\n",
            "[70 rows x 8 columns]\n"
          ]
        }
      ]
    },
    {
      "cell_type": "code",
      "source": [
        "df.describe()"
      ],
      "metadata": {
        "colab": {
          "base_uri": "https://localhost:8080/",
          "height": 300
        },
        "id": "zvZ7nenTqzHY",
        "outputId": "859b14d4-7c8d-4f96-e846-3c0e6226a0d0"
      },
      "execution_count": 12,
      "outputs": [
        {
          "output_type": "execute_result",
          "data": {
            "text/plain": [
              "              open         high          low        close\n",
              "count    70.000000    70.000000    70.000000    70.000000\n",
              "mean   1538.625204  1567.743029  1512.801374  1542.708245\n",
              "std     140.751019   142.528134   132.697816   134.687310\n",
              "min    1196.713671  1203.475387  1192.885436  1200.964832\n",
              "25%    1514.923274  1544.469888  1476.816593  1514.910281\n",
              "50%    1570.953801  1612.933000  1552.094197  1570.801348\n",
              "75%    1641.215380  1663.219171  1610.465044  1641.548809\n",
              "max    1702.797795  1732.801098  1683.670144  1702.675116"
            ],
            "text/html": [
              "\n",
              "  <div id=\"df-6c2f33cb-3d16-4c08-a70f-2830245363ae\">\n",
              "    <div class=\"colab-df-container\">\n",
              "      <div>\n",
              "<style scoped>\n",
              "    .dataframe tbody tr th:only-of-type {\n",
              "        vertical-align: middle;\n",
              "    }\n",
              "\n",
              "    .dataframe tbody tr th {\n",
              "        vertical-align: top;\n",
              "    }\n",
              "\n",
              "    .dataframe thead th {\n",
              "        text-align: right;\n",
              "    }\n",
              "</style>\n",
              "<table border=\"1\" class=\"dataframe\">\n",
              "  <thead>\n",
              "    <tr style=\"text-align: right;\">\n",
              "      <th></th>\n",
              "      <th>open</th>\n",
              "      <th>high</th>\n",
              "      <th>low</th>\n",
              "      <th>close</th>\n",
              "    </tr>\n",
              "  </thead>\n",
              "  <tbody>\n",
              "    <tr>\n",
              "      <th>count</th>\n",
              "      <td>70.000000</td>\n",
              "      <td>70.000000</td>\n",
              "      <td>70.000000</td>\n",
              "      <td>70.000000</td>\n",
              "    </tr>\n",
              "    <tr>\n",
              "      <th>mean</th>\n",
              "      <td>1538.625204</td>\n",
              "      <td>1567.743029</td>\n",
              "      <td>1512.801374</td>\n",
              "      <td>1542.708245</td>\n",
              "    </tr>\n",
              "    <tr>\n",
              "      <th>std</th>\n",
              "      <td>140.751019</td>\n",
              "      <td>142.528134</td>\n",
              "      <td>132.697816</td>\n",
              "      <td>134.687310</td>\n",
              "    </tr>\n",
              "    <tr>\n",
              "      <th>min</th>\n",
              "      <td>1196.713671</td>\n",
              "      <td>1203.475387</td>\n",
              "      <td>1192.885436</td>\n",
              "      <td>1200.964832</td>\n",
              "    </tr>\n",
              "    <tr>\n",
              "      <th>25%</th>\n",
              "      <td>1514.923274</td>\n",
              "      <td>1544.469888</td>\n",
              "      <td>1476.816593</td>\n",
              "      <td>1514.910281</td>\n",
              "    </tr>\n",
              "    <tr>\n",
              "      <th>50%</th>\n",
              "      <td>1570.953801</td>\n",
              "      <td>1612.933000</td>\n",
              "      <td>1552.094197</td>\n",
              "      <td>1570.801348</td>\n",
              "    </tr>\n",
              "    <tr>\n",
              "      <th>75%</th>\n",
              "      <td>1641.215380</td>\n",
              "      <td>1663.219171</td>\n",
              "      <td>1610.465044</td>\n",
              "      <td>1641.548809</td>\n",
              "    </tr>\n",
              "    <tr>\n",
              "      <th>max</th>\n",
              "      <td>1702.797795</td>\n",
              "      <td>1732.801098</td>\n",
              "      <td>1683.670144</td>\n",
              "      <td>1702.675116</td>\n",
              "    </tr>\n",
              "  </tbody>\n",
              "</table>\n",
              "</div>\n",
              "      <button class=\"colab-df-convert\" onclick=\"convertToInteractive('df-6c2f33cb-3d16-4c08-a70f-2830245363ae')\"\n",
              "              title=\"Convert this dataframe to an interactive table.\"\n",
              "              style=\"display:none;\">\n",
              "        \n",
              "  <svg xmlns=\"http://www.w3.org/2000/svg\" height=\"24px\"viewBox=\"0 0 24 24\"\n",
              "       width=\"24px\">\n",
              "    <path d=\"M0 0h24v24H0V0z\" fill=\"none\"/>\n",
              "    <path d=\"M18.56 5.44l.94 2.06.94-2.06 2.06-.94-2.06-.94-.94-2.06-.94 2.06-2.06.94zm-11 1L8.5 8.5l.94-2.06 2.06-.94-2.06-.94L8.5 2.5l-.94 2.06-2.06.94zm10 10l.94 2.06.94-2.06 2.06-.94-2.06-.94-.94-2.06-.94 2.06-2.06.94z\"/><path d=\"M17.41 7.96l-1.37-1.37c-.4-.4-.92-.59-1.43-.59-.52 0-1.04.2-1.43.59L10.3 9.45l-7.72 7.72c-.78.78-.78 2.05 0 2.83L4 21.41c.39.39.9.59 1.41.59.51 0 1.02-.2 1.41-.59l7.78-7.78 2.81-2.81c.8-.78.8-2.07 0-2.86zM5.41 20L4 18.59l7.72-7.72 1.47 1.35L5.41 20z\"/>\n",
              "  </svg>\n",
              "      </button>\n",
              "      \n",
              "  <style>\n",
              "    .colab-df-container {\n",
              "      display:flex;\n",
              "      flex-wrap:wrap;\n",
              "      gap: 12px;\n",
              "    }\n",
              "\n",
              "    .colab-df-convert {\n",
              "      background-color: #E8F0FE;\n",
              "      border: none;\n",
              "      border-radius: 50%;\n",
              "      cursor: pointer;\n",
              "      display: none;\n",
              "      fill: #1967D2;\n",
              "      height: 32px;\n",
              "      padding: 0 0 0 0;\n",
              "      width: 32px;\n",
              "    }\n",
              "\n",
              "    .colab-df-convert:hover {\n",
              "      background-color: #E2EBFA;\n",
              "      box-shadow: 0px 1px 2px rgba(60, 64, 67, 0.3), 0px 1px 3px 1px rgba(60, 64, 67, 0.15);\n",
              "      fill: #174EA6;\n",
              "    }\n",
              "\n",
              "    [theme=dark] .colab-df-convert {\n",
              "      background-color: #3B4455;\n",
              "      fill: #D2E3FC;\n",
              "    }\n",
              "\n",
              "    [theme=dark] .colab-df-convert:hover {\n",
              "      background-color: #434B5C;\n",
              "      box-shadow: 0px 1px 3px 1px rgba(0, 0, 0, 0.15);\n",
              "      filter: drop-shadow(0px 1px 2px rgba(0, 0, 0, 0.3));\n",
              "      fill: #FFFFFF;\n",
              "    }\n",
              "  </style>\n",
              "\n",
              "      <script>\n",
              "        const buttonEl =\n",
              "          document.querySelector('#df-6c2f33cb-3d16-4c08-a70f-2830245363ae button.colab-df-convert');\n",
              "        buttonEl.style.display =\n",
              "          google.colab.kernel.accessAllowed ? 'block' : 'none';\n",
              "\n",
              "        async function convertToInteractive(key) {\n",
              "          const element = document.querySelector('#df-6c2f33cb-3d16-4c08-a70f-2830245363ae');\n",
              "          const dataTable =\n",
              "            await google.colab.kernel.invokeFunction('convertToInteractive',\n",
              "                                                     [key], {});\n",
              "          if (!dataTable) return;\n",
              "\n",
              "          const docLinkHtml = 'Like what you see? Visit the ' +\n",
              "            '<a target=\"_blank\" href=https://colab.research.google.com/notebooks/data_table.ipynb>data table notebook</a>'\n",
              "            + ' to learn more about interactive tables.';\n",
              "          element.innerHTML = '';\n",
              "          dataTable['output_type'] = 'display_data';\n",
              "          await google.colab.output.renderOutput(dataTable, element);\n",
              "          const docLink = document.createElement('div');\n",
              "          docLink.innerHTML = docLinkHtml;\n",
              "          element.appendChild(docLink);\n",
              "        }\n",
              "      </script>\n",
              "    </div>\n",
              "  </div>\n",
              "  "
            ]
          },
          "metadata": {},
          "execution_count": 12
        }
      ]
    },
    {
      "cell_type": "code",
      "source": [
        "df.info()"
      ],
      "metadata": {
        "colab": {
          "base_uri": "https://localhost:8080/"
        },
        "id": "1XLec4hgqzKE",
        "outputId": "c616d097-d01e-4efc-f256-92ee31137582"
      },
      "execution_count": 13,
      "outputs": [
        {
          "output_type": "stream",
          "name": "stdout",
          "text": [
            "<class 'pandas.core.frame.DataFrame'>\n",
            "RangeIndex: 70 entries, 0 to 69\n",
            "Data columns (total 8 columns):\n",
            " #   Column     Non-Null Count  Dtype              \n",
            "---  ------     --------------  -----              \n",
            " 0   timeClose  70 non-null     datetime64[ns, UTC]\n",
            " 1   timeOpen   70 non-null     datetime64[ns, UTC]\n",
            " 2   timeHigh   70 non-null     datetime64[ns, UTC]\n",
            " 3   timeLow    70 non-null     datetime64[ns, UTC]\n",
            " 4   open       70 non-null     float64            \n",
            " 5   high       70 non-null     float64            \n",
            " 6   low        70 non-null     float64            \n",
            " 7   close      70 non-null     float64            \n",
            "dtypes: datetime64[ns, UTC](4), float64(4)\n",
            "memory usage: 4.5 KB\n"
          ]
        }
      ]
    },
    {
      "cell_type": "code",
      "source": [
        "#Step 7\n",
        "import seaborn as sns\n",
        "import matplotlib.pyplot as plt\n",
        "\n",
        "sns.set()\n",
        "sns.set_style('whitegrid')\n",
        "\n",
        "df[['open', 'low', 'close']].plot(figsize=(12,6),label=['Open', 'Low', 'Close'])\n",
        "df['close'].rolling(window=30).mean().plot(label='30 Day Avg')\n",
        "\n",
        "plt.title('Historical Ethereum Prices')\n",
        "plt.xlabel('Date')\n",
        "plt.ylabel('Price (USD)')\n",
        "\n",
        "plt.legend()\n",
        "plt.show()\n"
      ],
      "metadata": {
        "colab": {
          "base_uri": "https://localhost:8080/",
          "height": 410
        },
        "id": "2t7XSsaIrQ9z",
        "outputId": "04de428b-8027-4838-acb4-d548d5ae133c"
      },
      "execution_count": 14,
      "outputs": [
        {
          "output_type": "display_data",
          "data": {
            "text/plain": [
              "<Figure size 864x432 with 1 Axes>"
            ],
            "image/png": "[encoded data removed]"
          },
          "metadata": {}
        }
      ]
    },
    {
      "cell_type": "code",
      "source": [
        "df = df[['open','high','low','close']]\n",
        "df.head()\n"
      ],
      "metadata": {
        "colab": {
          "base_uri": "https://localhost:8080/",
          "height": 206
        },
        "id": "_F_h7wIqrRBk",
        "outputId": "57fcb4e6-9f7d-4398-fbd5-959d1c349bbb"
      },
      "execution_count": 15,
      "outputs": [
        {
          "output_type": "execute_result",
          "data": {
            "text/plain": [
              "          open         high          low        close\n",
              "0  1196.713671  1203.475387  1192.885436  1200.964832\n",
              "1  1201.103310  1219.860649  1195.215023  1214.656676\n",
              "2  1214.744040  1219.095373  1207.491547  1214.778803\n",
              "3  1214.718573  1264.807450  1213.168826  1256.526595\n",
              "4  1256.484593  1258.571559  1245.173056  1250.438551"
            ],
            "text/html": [
              "\n",
              "  <div id=\"df-c4b2d31f-27b6-452c-81f4-a215dfede17c\">\n",
              "    <div class=\"colab-df-container\">\n",
              "      <div>\n",
              "<style scoped>\n",
              "    .dataframe tbody tr th:only-of-type {\n",
              "        vertical-align: middle;\n",
              "    }\n",
              "\n",
              "    .dataframe tbody tr th {\n",
              "        vertical-align: top;\n",
              "    }\n",
              "\n",
              "    .dataframe thead th {\n",
              "        text-align: right;\n",
              "    }\n",
              "</style>\n",
              "<table border=\"1\" class=\"dataframe\">\n",
              "  <thead>\n",
              "    <tr style=\"text-align: right;\">\n",
              "      <th></th>\n",
              "      <th>open</th>\n",
              "      <th>high</th>\n",
              "      <th>low</th>\n",
              "      <th>close</th>\n",
              "    </tr>\n",
              "  </thead>\n",
              "  <tbody>\n",
              "    <tr>\n",
              "      <th>0</th>\n",
              "      <td>1196.713671</td>\n",
              "      <td>1203.475387</td>\n",
              "      <td>1192.885436</td>\n",
              "      <td>1200.964832</td>\n",
              "    </tr>\n",
              "    <tr>\n",
              "      <th>1</th>\n",
              "      <td>1201.103310</td>\n",
              "      <td>1219.860649</td>\n",
              "      <td>1195.215023</td>\n",
              "      <td>1214.656676</td>\n",
              "    </tr>\n",
              "    <tr>\n",
              "      <th>2</th>\n",
              "      <td>1214.744040</td>\n",
              "      <td>1219.095373</td>\n",
              "      <td>1207.491547</td>\n",
              "      <td>1214.778803</td>\n",
              "    </tr>\n",
              "    <tr>\n",
              "      <th>3</th>\n",
              "      <td>1214.718573</td>\n",
              "      <td>1264.807450</td>\n",
              "      <td>1213.168826</td>\n",
              "      <td>1256.526595</td>\n",
              "    </tr>\n",
              "    <tr>\n",
              "      <th>4</th>\n",
              "      <td>1256.484593</td>\n",
              "      <td>1258.571559</td>\n",
              "      <td>1245.173056</td>\n",
              "      <td>1250.438551</td>\n",
              "    </tr>\n",
              "  </tbody>\n",
              "</table>\n",
              "</div>\n",
              "      <button class=\"colab-df-convert\" onclick=\"convertToInteractive('df-c4b2d31f-27b6-452c-81f4-a215dfede17c')\"\n",
              "              title=\"Convert this dataframe to an interactive table.\"\n",
              "              style=\"display:none;\">\n",
              "        \n",
              "  <svg xmlns=\"http://www.w3.org/2000/svg\" height=\"24px\"viewBox=\"0 0 24 24\"\n",
              "       width=\"24px\">\n",
              "    <path d=\"M0 0h24v24H0V0z\" fill=\"none\"/>\n",
              "    <path d=\"M18.56 5.44l.94 2.06.94-2.06 2.06-.94-2.06-.94-.94-2.06-.94 2.06-2.06.94zm-11 1L8.5 8.5l.94-2.06 2.06-.94-2.06-.94L8.5 2.5l-.94 2.06-2.06.94zm10 10l.94 2.06.94-2.06 2.06-.94-2.06-.94-.94-2.06-.94 2.06-2.06.94z\"/><path d=\"M17.41 7.96l-1.37-1.37c-.4-.4-.92-.59-1.43-.59-.52 0-1.04.2-1.43.59L10.3 9.45l-7.72 7.72c-.78.78-.78 2.05 0 2.83L4 21.41c.39.39.9.59 1.41.59.51 0 1.02-.2 1.41-.59l7.78-7.78 2.81-2.81c.8-.78.8-2.07 0-2.86zM5.41 20L4 18.59l7.72-7.72 1.47 1.35L5.41 20z\"/>\n",
              "  </svg>\n",
              "      </button>\n",
              "      \n",
              "  <style>\n",
              "    .colab-df-container {\n",
              "      display:flex;\n",
              "      flex-wrap:wrap;\n",
              "      gap: 12px;\n",
              "    }\n",
              "\n",
              "    .colab-df-convert {\n",
              "      background-color: #E8F0FE;\n",
              "      border: none;\n",
              "      border-radius: 50%;\n",
              "      cursor: pointer;\n",
              "      display: none;\n",
              "      fill: #1967D2;\n",
              "      height: 32px;\n",
              "      padding: 0 0 0 0;\n",
              "      width: 32px;\n",
              "    }\n",
              "\n",
              "    .colab-df-convert:hover {\n",
              "      background-color: #E2EBFA;\n",
              "      box-shadow: 0px 1px 2px rgba(60, 64, 67, 0.3), 0px 1px 3px 1px rgba(60, 64, 67, 0.15);\n",
              "      fill: #174EA6;\n",
              "    }\n",
              "\n",
              "    [theme=dark] .colab-df-convert {\n",
              "      background-color: #3B4455;\n",
              "      fill: #D2E3FC;\n",
              "    }\n",
              "\n",
              "    [theme=dark] .colab-df-convert:hover {\n",
              "      background-color: #434B5C;\n",
              "      box-shadow: 0px 1px 3px 1px rgba(0, 0, 0, 0.15);\n",
              "      filter: drop-shadow(0px 1px 2px rgba(0, 0, 0, 0.3));\n",
              "      fill: #FFFFFF;\n",
              "    }\n",
              "  </style>\n",
              "\n",
              "      <script>\n",
              "        const buttonEl =\n",
              "          document.querySelector('#df-c4b2d31f-27b6-452c-81f4-a215dfede17c button.colab-df-convert');\n",
              "        buttonEl.style.display =\n",
              "          google.colab.kernel.accessAllowed ? 'block' : 'none';\n",
              "\n",
              "        async function convertToInteractive(key) {\n",
              "          const element = document.querySelector('#df-c4b2d31f-27b6-452c-81f4-a215dfede17c');\n",
              "          const dataTable =\n",
              "            await google.colab.kernel.invokeFunction('convertToInteractive',\n",
              "                                                     [key], {});\n",
              "          if (!dataTable) return;\n",
              "\n",
              "          const docLinkHtml = 'Like what you see? Visit the ' +\n",
              "            '<a target=\"_blank\" href=https://colab.research.google.com/notebooks/data_table.ipynb>data table notebook</a>'\n",
              "            + ' to learn more about interactive tables.';\n",
              "          element.innerHTML = '';\n",
              "          dataTable['output_type'] = 'display_data';\n",
              "          await google.colab.output.renderOutput(dataTable, element);\n",
              "          const docLink = document.createElement('div');\n",
              "          docLink.innerHTML = docLinkHtml;\n",
              "          element.appendChild(docLink);\n",
              "        }\n",
              "      </script>\n",
              "    </div>\n",
              "  </div>\n",
              "  "
            ]
          },
          "metadata": {},
          "execution_count": 15
        }
      ]
    },
    {
      "cell_type": "code",
      "source": [
        "X = df[['open','high','low']]\n",
        "y= df[['close']]"
      ],
      "metadata": {
        "id": "rFJVDGYjrREs"
      },
      "execution_count": 16,
      "outputs": []
    },
    {
      "cell_type": "code",
      "source": [
        "y"
      ],
      "metadata": {
        "colab": {
          "base_uri": "https://localhost:8080/",
          "height": 424
        },
        "id": "1WTXKkSXrRHz",
        "outputId": "8cfa98c0-0658-45a1-d9e5-77fee70de91f"
      },
      "execution_count": 17,
      "outputs": [
        {
          "output_type": "execute_result",
          "data": {
            "text/plain": [
              "          close\n",
              "0   1200.964832\n",
              "1   1214.656676\n",
              "2   1214.778803\n",
              "3   1256.526595\n",
              "4   1250.438551\n",
              "..          ...\n",
              "65  1561.933120\n",
              "66  1534.088232\n",
              "67  1438.660722\n",
              "68  1429.158133\n",
              "69  1482.616649\n",
              "\n",
              "[70 rows x 1 columns]"
            ],
            "text/html": [
              "\n",
              "  <div id=\"df-4405dd5f-5366-4a5d-855d-d1f241157063\">\n",
              "    <div class=\"colab-df-container\">\n",
              "      <div>\n",
              "<style scoped>\n",
              "    .dataframe tbody tr th:only-of-type {\n",
              "        vertical-align: middle;\n",
              "    }\n",
              "\n",
              "    .dataframe tbody tr th {\n",
              "        vertical-align: top;\n",
              "    }\n",
              "\n",
              "    .dataframe thead th {\n",
              "        text-align: right;\n",
              "    }\n",
              "</style>\n",
              "<table border=\"1\" class=\"dataframe\">\n",
              "  <thead>\n",
              "    <tr style=\"text-align: right;\">\n",
              "      <th></th>\n",
              "      <th>close</th>\n",
              "    </tr>\n",
              "  </thead>\n",
              "  <tbody>\n",
              "    <tr>\n",
              "      <th>0</th>\n",
              "      <td>1200.964832</td>\n",
              "    </tr>\n",
              "    <tr>\n",
              "      <th>1</th>\n",
              "      <td>1214.656676</td>\n",
              "    </tr>\n",
              "    <tr>\n",
              "      <th>2</th>\n",
              "      <td>1214.778803</td>\n",
              "    </tr>\n",
              "    <tr>\n",
              "      <th>3</th>\n",
              "      <td>1256.526595</td>\n",
              "    </tr>\n",
              "    <tr>\n",
              "      <th>4</th>\n",
              "      <td>1250.438551</td>\n",
              "    </tr>\n",
              "    <tr>\n",
              "      <th>...</th>\n",
              "      <td>...</td>\n",
              "    </tr>\n",
              "    <tr>\n",
              "      <th>65</th>\n",
              "      <td>1561.933120</td>\n",
              "    </tr>\n",
              "    <tr>\n",
              "      <th>66</th>\n",
              "      <td>1534.088232</td>\n",
              "    </tr>\n",
              "    <tr>\n",
              "      <th>67</th>\n",
              "      <td>1438.660722</td>\n",
              "    </tr>\n",
              "    <tr>\n",
              "      <th>68</th>\n",
              "      <td>1429.158133</td>\n",
              "    </tr>\n",
              "    <tr>\n",
              "      <th>69</th>\n",
              "      <td>1482.616649</td>\n",
              "    </tr>\n",
              "  </tbody>\n",
              "</table>\n",
              "<p>70 rows × 1 columns</p>\n",
              "</div>\n",
              "      <button class=\"colab-df-convert\" onclick=\"convertToInteractive('df-4405dd5f-5366-4a5d-855d-d1f241157063')\"\n",
              "              title=\"Convert this dataframe to an interactive table.\"\n",
              "              style=\"display:none;\">\n",
              "        \n",
              "  <svg xmlns=\"http://www.w3.org/2000/svg\" height=\"24px\"viewBox=\"0 0 24 24\"\n",
              "       width=\"24px\">\n",
              "    <path d=\"M0 0h24v24H0V0z\" fill=\"none\"/>\n",
              "    <path d=\"M18.56 5.44l.94 2.06.94-2.06 2.06-.94-2.06-.94-.94-2.06-.94 2.06-2.06.94zm-11 1L8.5 8.5l.94-2.06 2.06-.94-2.06-.94L8.5 2.5l-.94 2.06-2.06.94zm10 10l.94 2.06.94-2.06 2.06-.94-2.06-.94-.94-2.06-.94 2.06-2.06.94z\"/><path d=\"M17.41 7.96l-1.37-1.37c-.4-.4-.92-.59-1.43-.59-.52 0-1.04.2-1.43.59L10.3 9.45l-7.72 7.72c-.78.78-.78 2.05 0 2.83L4 21.41c.39.39.9.59 1.41.59.51 0 1.02-.2 1.41-.59l7.78-7.78 2.81-2.81c.8-.78.8-2.07 0-2.86zM5.41 20L4 18.59l7.72-7.72 1.47 1.35L5.41 20z\"/>\n",
              "  </svg>\n",
              "      </button>\n",
              "      \n",
              "  <style>\n",
              "    .colab-df-container {\n",
              "      display:flex;\n",
              "      flex-wrap:wrap;\n",
              "      gap: 12px;\n",
              "    }\n",
              "\n",
              "    .colab-df-convert {\n",
              "      background-color: #E8F0FE;\n",
              "      border: none;\n",
              "      border-radius: 50%;\n",
              "      cursor: pointer;\n",
              "      display: none;\n",
              "      fill: #1967D2;\n",
              "      height: 32px;\n",
              "      padding: 0 0 0 0;\n",
              "      width: 32px;\n",
              "    }\n",
              "\n",
              "    .colab-df-convert:hover {\n",
              "      background-color: #E2EBFA;\n",
              "      box-shadow: 0px 1px 2px rgba(60, 64, 67, 0.3), 0px 1px 3px 1px rgba(60, 64, 67, 0.15);\n",
              "      fill: #174EA6;\n",
              "    }\n",
              "\n",
              "    [theme=dark] .colab-df-convert {\n",
              "      background-color: #3B4455;\n",
              "      fill: #D2E3FC;\n",
              "    }\n",
              "\n",
              "    [theme=dark] .colab-df-convert:hover {\n",
              "      background-color: #434B5C;\n",
              "      box-shadow: 0px 1px 3px 1px rgba(0, 0, 0, 0.15);\n",
              "      filter: drop-shadow(0px 1px 2px rgba(0, 0, 0, 0.3));\n",
              "      fill: #FFFFFF;\n",
              "    }\n",
              "  </style>\n",
              "\n",
              "      <script>\n",
              "        const buttonEl =\n",
              "          document.querySelector('#df-4405dd5f-5366-4a5d-855d-d1f241157063 button.colab-df-convert');\n",
              "        buttonEl.style.display =\n",
              "          google.colab.kernel.accessAllowed ? 'block' : 'none';\n",
              "\n",
              "        async function convertToInteractive(key) {\n",
              "          const element = document.querySelector('#df-4405dd5f-5366-4a5d-855d-d1f241157063');\n",
              "          const dataTable =\n",
              "            await google.colab.kernel.invokeFunction('convertToInteractive',\n",
              "                                                     [key], {});\n",
              "          if (!dataTable) return;\n",
              "\n",
              "          const docLinkHtml = 'Like what you see? Visit the ' +\n",
              "            '<a target=\"_blank\" href=https://colab.research.google.com/notebooks/data_table.ipynb>data table notebook</a>'\n",
              "            + ' to learn more about interactive tables.';\n",
              "          element.innerHTML = '';\n",
              "          dataTable['output_type'] = 'display_data';\n",
              "          await google.colab.output.renderOutput(dataTable, element);\n",
              "          const docLink = document.createElement('div');\n",
              "          docLink.innerHTML = docLinkHtml;\n",
              "          element.appendChild(docLink);\n",
              "        }\n",
              "      </script>\n",
              "    </div>\n",
              "  </div>\n",
              "  "
            ]
          },
          "metadata": {},
          "execution_count": 17
        }
      ]
    },
    {
      "cell_type": "code",
      "source": [
        "#Step 8\n",
        "from sklearn.preprocessing import MinMaxScaler\n",
        "scaler = MinMaxScaler()\n",
        "X_scaled= scaler.fit_transform(X)"
      ],
      "metadata": {
        "id": "WQQOpk4drRL3"
      },
      "execution_count": 18,
      "outputs": []
    },
    {
      "cell_type": "code",
      "source": [
        "X_scaled"
      ],
      "metadata": {
        "colab": {
          "base_uri": "https://localhost:8080/"
        },
        "id": "OZRnyrTLrRPQ",
        "outputId": "d819c4be-a05c-4790-95eb-1e9471977f32"
      },
      "execution_count": 19,
      "outputs": [
        {
          "output_type": "execute_result",
          "data": {
            "text/plain": [
              "array([[0.        , 0.        , 0.        ],\n",
              "       [0.00867373, 0.03095497, 0.00474666],\n",
              "       [0.03562722, 0.02950921, 0.02976073],\n",
              "       [0.0355769 , 0.11586829, 0.04132849],\n",
              "       [0.11810472, 0.10408747, 0.10653881],\n",
              "       [0.10619846, 0.13176187, 0.09792895],\n",
              "       [0.143664  , 0.12680836, 0.14137702],\n",
              "       [0.1333143 , 0.15847342, 0.13721157],\n",
              "       [0.17929257, 0.2619725 , 0.19111294],\n",
              "       [0.24636572, 0.26313054, 0.25600178],\n",
              "       [0.27618552, 0.34847602, 0.26630339],\n",
              "       [0.37748513, 0.43225909, 0.37804092],\n",
              "       [0.4371458 , 0.48778532, 0.43020585],\n",
              "       [0.50330532, 0.68060875, 0.52589863],\n",
              "       [0.69952372, 0.66778435, 0.66833456],\n",
              "       [0.70305621, 0.73785266, 0.68602017],\n",
              "       [0.75164144, 0.73777948, 0.734437  ],\n",
              "       [0.73305061, 0.75309265, 0.64496196],\n",
              "       [0.62941302, 0.66971053, 0.65506241],\n",
              "       [0.70276862, 0.8622487 , 0.71728476],\n",
              "       [0.91485264, 0.88925187, 0.88415044],\n",
              "       [0.85095009, 0.8587303 , 0.85414287],\n",
              "       [0.85329122, 0.82698191, 0.84562055],\n",
              "       [0.85190302, 0.82415883, 0.7304718 ],\n",
              "       [0.71152949, 0.81002356, 0.68851467],\n",
              "       [0.8187716 , 0.79860624, 0.80221066],\n",
              "       [0.80296221, 0.78123068, 0.75870252],\n",
              "       [0.79317199, 0.75799971, 0.75899813],\n",
              "       [0.7427931 , 0.85060979, 0.76632252],\n",
              "       [0.8880618 , 0.83724663, 0.72083614],\n",
              "       [0.73249924, 0.74631207, 0.75576704],\n",
              "       [0.77017716, 0.83361169, 0.76198759],\n",
              "       [0.87861338, 0.94645466, 0.91371466],\n",
              "       [0.88165387, 0.88267294, 0.89924958],\n",
              "       [0.92427049, 0.91932852, 0.92770569],\n",
              "       [0.92959407, 0.88470081, 0.86291683],\n",
              "       [0.85940577, 0.85059182, 0.85258076],\n",
              "       [0.82851039, 0.88853132, 0.85980173],\n",
              "       [0.93895768, 0.91635797, 0.90137202],\n",
              "       [0.8978123 , 0.85346214, 0.70152313],\n",
              "       [0.69135316, 0.66093586, 0.63561273],\n",
              "       [0.62880508, 0.63828259, 0.6464374 ],\n",
              "       [0.67787607, 0.64625402, 0.62874121],\n",
              "       [0.62875591, 0.60691563, 0.56468456],\n",
              "       [0.61309658, 0.67738799, 0.62004578],\n",
              "       [0.7114458 , 0.8894606 , 0.71885758],\n",
              "       [0.94283494, 1.        , 0.90724102],\n",
              "       [0.87646782, 0.96973645, 0.9032236 ],\n",
              "       [0.98408171, 0.94806231, 1.        ],\n",
              "       [0.9780321 , 0.97382798, 0.98010618],\n",
              "       [0.95957043, 0.96918392, 0.95033447],\n",
              "       [1.        , 0.96502068, 0.91590327],\n",
              "       [0.91176006, 0.8700153 , 0.83930457],\n",
              "       [0.8824322 , 0.89004964, 0.89587282],\n",
              "       [0.89744254, 0.86452622, 0.7951805 ],\n",
              "       [0.81398462, 0.76586067, 0.76356548],\n",
              "       [0.78652414, 0.83464313, 0.80994302],\n",
              "       [0.87742329, 0.86733049, 0.86087132],\n",
              "       [0.86505134, 0.83306059, 0.8344649 ],\n",
              "       [0.8088116 , 0.86895131, 0.83267301],\n",
              "       [0.92244633, 0.88523133, 0.87556638],\n",
              "       [0.89084816, 0.84069218, 0.73263506],\n",
              "       [0.73617102, 0.70308671, 0.73117893],\n",
              "       [0.7320238 , 0.7192802 , 0.74792186],\n",
              "       [0.7264987 , 0.71030168, 0.74264348],\n",
              "       [0.73250857, 0.70974615, 0.71363688],\n",
              "       [0.721746  , 0.68898964, 0.69521888],\n",
              "       [0.66652553, 0.64352258, 0.46941007],\n",
              "       [0.47827325, 0.44449906, 0.37825132],\n",
              "       [0.45918676, 0.53022478, 0.48053196]])"
            ]
          },
          "metadata": {},
          "execution_count": 19
        }
      ]
    },
    {
      "cell_type": "code",
      "source": [
        "X_scaled.shape"
      ],
      "metadata": {
        "colab": {
          "base_uri": "https://localhost:8080/"
        },
        "id": "VaaHhgq4rxq3",
        "outputId": "5113ea6a-fb77-4393-99bb-b5b743b03b18"
      },
      "execution_count": 20,
      "outputs": [
        {
          "output_type": "execute_result",
          "data": {
            "text/plain": [
              "(70, 3)"
            ]
          },
          "metadata": {},
          "execution_count": 20
        }
      ]
    },
    {
      "cell_type": "code",
      "source": [
        "y.shape"
      ],
      "metadata": {
        "colab": {
          "base_uri": "https://localhost:8080/"
        },
        "id": "Rx2qRNZEr1Kg",
        "outputId": "7ada8de9-8a29-4fd0-ee2b-467c238a188a"
      },
      "execution_count": 21,
      "outputs": [
        {
          "output_type": "execute_result",
          "data": {
            "text/plain": [
              "(70, 1)"
            ]
          },
          "metadata": {},
          "execution_count": 21
        }
      ]
    },
    {
      "cell_type": "code",
      "source": [
        "y_scaled= scaler.fit_transform(y)\n",
        "y_scaled"
      ],
      "metadata": {
        "colab": {
          "base_uri": "https://localhost:8080/"
        },
        "id": "BKeSip_vr1dX",
        "outputId": "b6b87d7a-ec0d-443d-dae0-7631c84b41d1"
      },
      "execution_count": 22,
      "outputs": [
        {
          "output_type": "execute_result",
          "data": {
            "text/plain": [
              "array([[0.        ],\n",
              "       [0.02729034],\n",
              "       [0.02753376],\n",
              "       [0.11074472],\n",
              "       [0.09861014],\n",
              "       [0.13636191],\n",
              "       [0.12617941],\n",
              "       [0.1722002 ],\n",
              "       [0.24032618],\n",
              "       [0.27031792],\n",
              "       [0.37266103],\n",
              "       [0.4324681 ],\n",
              "       [0.49959113],\n",
              "       [0.69709959],\n",
              "       [0.70063273],\n",
              "       [0.74917475],\n",
              "       [0.73126111],\n",
              "       [0.62693986],\n",
              "       [0.70078636],\n",
              "       [0.91445063],\n",
              "       [0.84940134],\n",
              "       [0.85192037],\n",
              "       [0.85165926],\n",
              "       [0.70885413],\n",
              "       [0.81869203],\n",
              "       [0.80154048],\n",
              "       [0.79167539],\n",
              "       [0.74040781],\n",
              "       [0.88734628],\n",
              "       [0.73022551],\n",
              "       [0.76851234],\n",
              "       [0.87865024],\n",
              "       [0.88153815],\n",
              "       [0.92439953],\n",
              "       [0.92901106],\n",
              "       [0.85842579],\n",
              "       [0.82773327],\n",
              "       [0.93886602],\n",
              "       [0.89643752],\n",
              "       [0.68859154],\n",
              "       [0.62566849],\n",
              "       [0.67561289],\n",
              "       [0.62599645],\n",
              "       [0.61031456],\n",
              "       [0.70939411],\n",
              "       [0.94233904],\n",
              "       [0.87521181],\n",
              "       [0.98427032],\n",
              "       [0.97836269],\n",
              "       [0.95766683],\n",
              "       [1.        ],\n",
              "       [0.9110269 ],\n",
              "       [0.88151846],\n",
              "       [0.89714937],\n",
              "       [0.81203902],\n",
              "       [0.78521436],\n",
              "       [0.87670582],\n",
              "       [0.86376849],\n",
              "       [0.80709986],\n",
              "       [0.92178462],\n",
              "       [0.88966573],\n",
              "       [0.7338953 ],\n",
              "       [0.72942318],\n",
              "       [0.72452948],\n",
              "       [0.73036946],\n",
              "       [0.71947556],\n",
              "       [0.66397563],\n",
              "       [0.47377121],\n",
              "       [0.45483082],\n",
              "       [0.56138338]])"
            ]
          },
          "metadata": {},
          "execution_count": 22
        }
      ]
    },
    {
      "cell_type": "code",
      "source": [
        "#Step 9\n",
        "from sklearn.model_selection import train_test_split\n",
        "X_train,X_test,y_train,y_test= train_test_split(X_scaled,y_scaled,test_size = 0.25)"
      ],
      "metadata": {
        "id": "LgSEn745r1ft"
      },
      "execution_count": 23,
      "outputs": []
    },
    {
      "cell_type": "code",
      "source": [
        "model = LinearRegression()\n",
        "model.fit(X_train, y_train)"
      ],
      "metadata": {
        "colab": {
          "base_uri": "https://localhost:8080/",
          "height": 75
        },
        "id": "bqLrA_Q3r1hz",
        "outputId": "0b178dc0-f0b5-4b29-c814-d41498fdcdb7"
      },
      "execution_count": 24,
      "outputs": [
        {
          "output_type": "execute_result",
          "data": {
            "text/plain": [
              "LinearRegression()"
            ],
            "text/html": [
              "<style>#sk-container-id-1 {color: black;background-color: white;}#sk-container-id-1 pre{padding: 0;}#sk-container-id-1 div.sk-toggleable {background-color: white;}#sk-container-id-1 label.sk-toggleable__label {cursor: pointer;display: block;width: 100%;margin-bottom: 0;padding: 0.3em;box-sizing: border-box;text-align: center;}#sk-container-id-1 label.sk-toggleable__label-arrow:before {content: \"▸\";float: left;margin-right: 0.25em;color: #696969;}#sk-container-id-1 label.sk-toggleable__label-arrow:hover:before {color: black;}#sk-container-id-1 div.sk-estimator:hover label.sk-toggleable__label-arrow:before {color: black;}#sk-container-id-1 div.sk-toggleable__content {max-height: 0;max-width: 0;overflow: hidden;text-align: left;background-color: #f0f8ff;}#sk-container-id-1 div.sk-toggleable__content pre {margin: 0.2em;color: black;border-radius: 0.25em;background-color: #f0f8ff;}#sk-container-id-1 input.sk-toggleable__control:checked~div.sk-toggleable__content {max-height: 200px;max-width: 100%;overflow: auto;}#sk-container-id-1 input.sk-toggleable__control:checked~label.sk-toggleable__label-arrow:before {content: \"▾\";}#sk-container-id-1 div.sk-estimator input.sk-toggleable__control:checked~label.sk-toggleable__label {background-color: #d4ebff;}#sk-container-id-1 div.sk-label input.sk-toggleable__control:checked~label.sk-toggleable__label {background-color: #d4ebff;}#sk-container-id-1 input.sk-hidden--visually {border: 0;clip: rect(1px 1px 1px 1px);clip: rect(1px, 1px, 1px, 1px);height: 1px;margin: -1px;overflow: hidden;padding: 0;position: absolute;width: 1px;}#sk-container-id-1 div.sk-estimator {font-family: monospace;background-color: #f0f8ff;border: 1px dotted black;border-radius: 0.25em;box-sizing: border-box;margin-bottom: 0.5em;}#sk-container-id-1 div.sk-estimator:hover {background-color: #d4ebff;}#sk-container-id-1 div.sk-parallel-item::after {content: \"\";width: 100%;border-bottom: 1px solid gray;flex-grow: 1;}#sk-container-id-1 div.sk-label:hover label.sk-toggleable__label {background-color: #d4ebff;}#sk-container-id-1 div.sk-serial::before {content: \"\";position: absolute;border-left: 1px solid gray;box-sizing: border-box;top: 0;bottom: 0;left: 50%;z-index: 0;}#sk-container-id-1 div.sk-serial {display: flex;flex-direction: column;align-items: center;background-color: white;padding-right: 0.2em;padding-left: 0.2em;position: relative;}#sk-container-id-1 div.sk-item {position: relative;z-index: 1;}#sk-container-id-1 div.sk-parallel {display: flex;align-items: stretch;justify-content: center;background-color: white;position: relative;}#sk-container-id-1 div.sk-item::before, #sk-container-id-1 div.sk-parallel-item::before {content: \"\";position: absolute;border-left: 1px solid gray;box-sizing: border-box;top: 0;bottom: 0;left: 50%;z-index: -1;}#sk-container-id-1 div.sk-parallel-item {display: flex;flex-direction: column;z-index: 1;position: relative;background-color: white;}#sk-container-id-1 div.sk-parallel-item:first-child::after {align-self: flex-end;width: 50%;}#sk-container-id-1 div.sk-parallel-item:last-child::after {align-self: flex-start;width: 50%;}#sk-container-id-1 div.sk-parallel-item:only-child::after {width: 0;}#sk-container-id-1 div.sk-dashed-wrapped {border: 1px dashed gray;margin: 0 0.4em 0.5em 0.4em;box-sizing: border-box;padding-bottom: 0.4em;background-color: white;}#sk-container-id-1 div.sk-label label {font-family: monospace;font-weight: bold;display: inline-block;line-height: 1.2em;}#sk-container-id-1 div.sk-label-container {text-align: center;}#sk-container-id-1 div.sk-container {/* jupyter's `normalize.less` sets `[hidden] { display: none; }` but bootstrap.min.css set `[hidden] { display: none !important; }` so we also need the `!important` here to be able to override the default hidden behavior on the sphinx rendered scikit-learn.org. See: https://github.com/scikit-learn/scikit-learn/issues/21755 */display: inline-block !important;position: relative;}#sk-container-id-1 div.sk-text-repr-fallback {display: none;}</style><div id=\"sk-container-id-1\" class=\"sk-top-container\"><div class=\"sk-text-repr-fallback\"><pre>LinearRegression()</pre><b>In a Jupyter environment, please rerun this cell to show the HTML representation or trust the notebook. <br />On GitHub, the HTML representation is unable to render, please try loading this page with nbviewer.org.</b></div><div class=\"sk-container\" hidden><div class=\"sk-item\"><div class=\"sk-estimator sk-toggleable\"><input class=\"sk-toggleable__control sk-hidden--visually\" id=\"sk-estimator-id-1\" type=\"checkbox\" checked><label for=\"sk-estimator-id-1\" class=\"sk-toggleable__label sk-toggleable__label-arrow\">LinearRegression</label><div class=\"sk-toggleable__content\"><pre>LinearRegression()</pre></div></div></div></div></div>"
            ]
          },
          "metadata": {},
          "execution_count": 24
        }
      ]
    },
    {
      "cell_type": "code",
      "source": [
        "#Step10\n",
        "# Evaluate the model\n",
        "y_pred = model.predict(X_test)\n",
        "mse = mean_squared_error(y_test, y_pred)\n",
        "print('Mean Squared Error:', mse)"
      ],
      "metadata": {
        "colab": {
          "base_uri": "https://localhost:8080/"
        },
        "id": "hRxOHIZusHPH",
        "outputId": "66b46fd0-a8e7-4076-e037-91c205c976c9"
      },
      "execution_count": 25,
      "outputs": [
        {
          "output_type": "stream",
          "name": "stdout",
          "text": [
            "Mean Squared Error: 0.0012496777223711705\n"
          ]
        }
      ]
    },
    {
      "cell_type": "code",
      "source": [
        "predictedprice = model.predict(X)\n",
        "predictedprice"
      ],
      "metadata": {
        "colab": {
          "base_uri": "https://localhost:8080/"
        },
        "id": "PSRtds6jsHR4",
        "outputId": "f2afaaea-4fba-4ee8-c37d-1e37ec1bc544"
      },
      "execution_count": 26,
      "outputs": [
        {
          "output_type": "stream",
          "name": "stderr",
          "text": [
            "/usr/local/lib/python3.9/dist-packages/sklearn/base.py:413: UserWarning: X has feature names, but LinearRegression was fitted without feature names\n",
            "  warnings.warn(\n"
          ]
        },
        {
          "output_type": "execute_result",
          "data": {
            "text/plain": [
              "array([[1208.94008329],\n",
              "       [1223.61674138],\n",
              "       [1222.11476302],\n",
              "       [1271.51635198],\n",
              "       [1258.82799426],\n",
              "       [1274.50973667],\n",
              "       [1274.12891831],\n",
              "       [1292.97072901],\n",
              "       [1349.89569381],\n",
              "       [1349.62673302],\n",
              "       [1386.83881667],\n",
              "       [1434.36925158],\n",
              "       [1460.48972197],\n",
              "       [1572.08023833],\n",
              "       [1545.12428606],\n",
              "       [1586.97004402],\n",
              "       [1586.82767963],\n",
              "       [1568.34484233],\n",
              "       [1567.4287855 ],\n",
              "       [1663.66772161],\n",
              "       [1660.67965425],\n",
              "       [1657.47469273],\n",
              "       [1636.84763868],\n",
              "       [1592.86473792],\n",
              "       [1622.38561194],\n",
              "       [1618.74904126],\n",
              "       [1599.34561019],\n",
              "       [1591.00154834],\n",
              "       [1660.92901629],\n",
              "       [1582.55005229],\n",
              "       [1606.42005392],\n",
              "       [1640.18354851],\n",
              "       [1715.14743844],\n",
              "       [1675.32351181],\n",
              "       [1689.12166848],\n",
              "       [1644.84903545],\n",
              "       [1649.47752253],\n",
              "       [1683.543291  ],\n",
              "       [1672.23019487],\n",
              "       [1580.14190884],\n",
              "       [1532.38331769],\n",
              "       [1548.03509834],\n",
              "       [1527.20257091],\n",
              "       [1501.13688725],\n",
              "       [1564.46049128],\n",
              "       [1675.20402188],\n",
              "       [1716.61351087],\n",
              "       [1724.17849022],\n",
              "       [1708.72825154],\n",
              "       [1717.00383736],\n",
              "       [1710.36992315],\n",
              "       [1680.18868125],\n",
              "       [1635.04237178],\n",
              "       [1677.61912059],\n",
              "       [1621.05208499],\n",
              "       [1589.01484631],\n",
              "       [1652.51957876],\n",
              "       [1654.56118929],\n",
              "       [1631.44598531],\n",
              "       [1670.56717421],\n",
              "       [1652.52994144],\n",
              "       [1587.71337902],\n",
              "       [1573.30262291],\n",
              "       [1589.56191866],\n",
              "       [1584.97403962],\n",
              "       [1571.5938068 ],\n",
              "       [1557.91196143],\n",
              "       [1470.4882852 ],\n",
              "       [1403.08541368],\n",
              "       [1493.18471057]])"
            ]
          },
          "metadata": {},
          "execution_count": 26
        }
      ]
    },
    {
      "cell_type": "code",
      "source": [
        "#Step11\n",
        "#visualizing the results\n",
        "plt.plot(y,color = 'red', label = 'Actual ETH Price')\n",
        "plt.plot(predictedprice, color = 'blue', label = 'Predicted ETH Price')\n",
        "plt.title('ETHEREUM PRICE PREDICTION')\n",
        "plt.xlabel('Time')\n",
        "plt.ylabel('ETH stock price')\n",
        "plt.legend()\n",
        "plt.show()"
      ],
      "metadata": {
        "colab": {
          "base_uri": "https://localhost:8080/",
          "height": 301
        },
        "id": "U62_HJK2sHUK",
        "outputId": "1d928c7b-777f-4c2a-d547-c43fbdb049d2"
      },
      "execution_count": 27,
      "outputs": [
        {
          "output_type": "display_data",
          "data": {
            "text/plain": [
              "<Figure size 432x288 with 1 Axes>"
            ],
            "image/png": "[encoded data removed]"
          },
          "metadata": {}
        }
      ]
    },
    {
      "cell_type": "code",
      "source": [],
      "metadata": {
        "id": "vq2Jr77PCIen"
      },
      "execution_count": null,
      "outputs": []
    }
  ]
}